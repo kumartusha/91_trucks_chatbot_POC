{
 "cells": [
  {
   "cell_type": "markdown",
   "id": "345e96f6-a8b6-48b7-ae7a-ee11b5488210",
   "metadata": {},
   "source": [
    "# 91Trucks Chatbot using the Json Data."
   ]
  },
  {
   "cell_type": "code",
   "execution_count": 103,
   "id": "ab3f4281-11db-45ed-9b00-8d9347ba2730",
   "metadata": {},
   "outputs": [
    {
     "name": "stdout",
     "output_type": "stream",
     "text": [
      "\u001b[2mUsing Python 3.12.3 environment at: /home/dell/Desktop/Github/91_trucks_ai_ml/001_LLM_Chatbot/chatbot-uvicorn/.venv\u001b[0m\n",
      "\u001b[2mAudited \u001b[1m1 package\u001b[0m \u001b[2min 2ms\u001b[0m\u001b[0m\n"
     ]
    }
   ],
   "source": [
    "import warnings\n",
    "warnings.filterwarnings(\"ignore\")\n",
    "import os\n",
    "os.environ[\"TOKENIZERS_PARALLELISM\"] = \"false\"\n",
    "\n",
    "!uv pip install jq"
   ]
  },
  {
   "cell_type": "markdown",
   "id": "b11acf75-ed38-44fa-b767-87b6a7f70a7e",
   "metadata": {},
   "source": [
    "# Initialize the LLM Model."
   ]
  },
  {
   "cell_type": "code",
   "execution_count": 104,
   "id": "c9bbf364-a586-4220-ab94-50bc9e060201",
   "metadata": {},
   "outputs": [
    {
     "ename": "ValueError",
     "evalue": "jq: error: syntax error, unexpected ')' (Unix shell quoting issues?) at <top-level>, line 9:\n    \"It is \" + (if .isElectric then \"an electric vehicle\" else \"not electric\") + \". \" +                                                                             \njq: error: Possibly unterminated 'if' statement at <top-level>, line 9:\n    \"It is \" + (if .isElectric then \"an electric vehicle\" else \"not electric\") + \". \" +                \njq: 2 compile errors",
     "output_type": "error",
     "traceback": [
      "\u001b[31m---------------------------------------------------------------------------\u001b[39m",
      "\u001b[31mValueError\u001b[39m                                Traceback (most recent call last)",
      "\u001b[36mCell\u001b[39m\u001b[36m \u001b[39m\u001b[32mIn[104]\u001b[39m\u001b[32m, line 57\u001b[39m\n\u001b[32m     28\u001b[39m jq_schema = \u001b[33m'''\u001b[39m\n\u001b[32m     29\u001b[39m \u001b[33m.[] |\u001b[39m\n\u001b[32m     30\u001b[39m \u001b[33m \u001b[39m\u001b[33m{\u001b[39m\n\u001b[32m   (...)\u001b[39m\u001b[32m     52\u001b[39m \u001b[33m}\u001b[39m\n\u001b[32m     53\u001b[39m \u001b[33m'''\u001b[39m\n\u001b[32m     56\u001b[39m \u001b[38;5;66;03m# Load the json data through the langchain framework.\u001b[39;00m\n\u001b[32m---> \u001b[39m\u001b[32m57\u001b[39m loader = \u001b[43mJSONLoader\u001b[49m\u001b[43m(\u001b[49m\n\u001b[32m     58\u001b[39m \u001b[43m    \u001b[49m\u001b[43mfile_path\u001b[49m\u001b[43m=\u001b[49m\u001b[33;43m'\u001b[39;49m\u001b[33;43mtata_data.json\u001b[39;49m\u001b[33;43m'\u001b[39;49m\u001b[43m,\u001b[49m\n\u001b[32m     59\u001b[39m \u001b[43m    \u001b[49m\u001b[43mjq_schema\u001b[49m\u001b[43m=\u001b[49m\u001b[43mjq_schema\u001b[49m\u001b[43m,\u001b[49m\n\u001b[32m     60\u001b[39m \u001b[43m    \u001b[49m\u001b[43mtext_content\u001b[49m\u001b[43m=\u001b[49m\u001b[38;5;28;43;01mFalse\u001b[39;49;00m\u001b[43m,\u001b[49m\n\u001b[32m     61\u001b[39m \u001b[43m)\u001b[49m\n\u001b[32m     63\u001b[39m documents = loader.load()\n\u001b[32m     64\u001b[39m \u001b[38;5;28mprint\u001b[39m(\u001b[33mf\u001b[39m\u001b[33m\"\u001b[39m\u001b[33m✅ Loaded \u001b[39m\u001b[38;5;132;01m{\u001b[39;00m\u001b[38;5;28mlen\u001b[39m(documents)\u001b[38;5;132;01m}\u001b[39;00m\u001b[33m documents.\u001b[39m\u001b[33m\"\u001b[39m)\n",
      "\u001b[36mFile \u001b[39m\u001b[32m~/Desktop/Github/91_trucks_ai_ml/001_LLM_Chatbot/chatbot-uvicorn/.venv/lib/python3.12/site-packages/langchain_community/document_loaders/json_loader.py:128\u001b[39m, in \u001b[36mJSONLoader.__init__\u001b[39m\u001b[34m(self, file_path, jq_schema, content_key, is_content_key_jq_parsable, metadata_func, text_content, json_lines)\u001b[39m\n\u001b[32m    123\u001b[39m     \u001b[38;5;28;01mraise\u001b[39;00m \u001b[38;5;167;01mImportError\u001b[39;00m(\n\u001b[32m    124\u001b[39m         \u001b[33m\"\u001b[39m\u001b[33mjq package not found, please install it with `pip install jq`\u001b[39m\u001b[33m\"\u001b[39m\n\u001b[32m    125\u001b[39m     )\n\u001b[32m    127\u001b[39m \u001b[38;5;28mself\u001b[39m.file_path = Path(file_path).resolve()\n\u001b[32m--> \u001b[39m\u001b[32m128\u001b[39m \u001b[38;5;28mself\u001b[39m._jq_schema = \u001b[43mjq\u001b[49m\u001b[43m.\u001b[49m\u001b[43mcompile\u001b[49m\u001b[43m(\u001b[49m\u001b[43mjq_schema\u001b[49m\u001b[43m)\u001b[49m\n\u001b[32m    129\u001b[39m \u001b[38;5;28mself\u001b[39m._is_content_key_jq_parsable = is_content_key_jq_parsable\n\u001b[32m    130\u001b[39m \u001b[38;5;28mself\u001b[39m._content_key = content_key\n",
      "\u001b[36mFile \u001b[39m\u001b[32mjq.pyx:136\u001b[39m, in \u001b[36mjq.compile\u001b[39m\u001b[34m()\u001b[39m\n",
      "\u001b[36mFile \u001b[39m\u001b[32mjq.pyx:253\u001b[39m, in \u001b[36mjq._Program.__cinit__\u001b[39m\u001b[34m()\u001b[39m\n",
      "\u001b[36mFile \u001b[39m\u001b[32mjq.pyx:224\u001b[39m, in \u001b[36mjq._JqStatePool.__cinit__\u001b[39m\u001b[34m()\u001b[39m\n",
      "\u001b[36mFile \u001b[39m\u001b[32mjq.pyx:170\u001b[39m, in \u001b[36mjq._compile\u001b[39m\u001b[34m()\u001b[39m\n",
      "\u001b[36mFile \u001b[39m\u001b[32mjq.pyx:153\u001b[39m, in \u001b[36mjq._compile\u001b[39m\u001b[34m()\u001b[39m\n",
      "\u001b[36mFile \u001b[39m\u001b[32mjq.pyx:164\u001b[39m, in \u001b[36mjq._compile\u001b[39m\u001b[34m()\u001b[39m\n",
      "\u001b[31mValueError\u001b[39m: jq: error: syntax error, unexpected ')' (Unix shell quoting issues?) at <top-level>, line 9:\n    \"It is \" + (if .isElectric then \"an electric vehicle\" else \"not electric\") + \". \" +                                                                             \njq: error: Possibly unterminated 'if' statement at <top-level>, line 9:\n    \"It is \" + (if .isElectric then \"an electric vehicle\" else \"not electric\") + \". \" +                \njq: 2 compile errors"
     ]
    }
   ],
   "source": [
    "# Import the required library and also initialize the llm model.\n",
    "from langchain.llms import OpenAI\n",
    "import os\n",
    "from dotenv import load_dotenv\n",
    "import pandas as pd\n",
    "from langchain.document_loaders.json_loader import JSONLoader\n",
    "from langchain.document_loaders.csv_loader import CSVLoader\n",
    "import jq\n",
    "import google.generativeai as genai\n",
    "import warnings\n",
    "warnings.filterwarnings(\"ignore\")\n",
    "from langchain.embeddings import OpenAIEmbeddings\n",
    "from langchain.vectorstores import FAISS\n",
    "from langchain.chains.retrieval_qa.base import RetrievalQA\n",
    "from langchain.prompts import PromptTemplate\n",
    "from langchain.chains import LLMChain\n",
    "\n",
    "load_dotenv()\n",
    "\n",
    "# with the OpenAI API Key.\n",
    "OPENAI_API_KEY = os.getenv(\"OPENAI_API_KEY\")\n",
    "GOOGLE_API_KEY = os.getenv(\"GOOGLE_API_KEY\")\n",
    "\n",
    "#  Initialize the llm.\n",
    "llm = OpenAI(temperature = 0.7)\n",
    "llm.invoke(\"who is Elon Musk and why he is so popular give me answer in structured way.\").strip()\n",
    "\n",
    "jq_schema = '''\n",
    ".[] |\n",
    " {\n",
    " page_content: (\n",
    "    \"The truck named \" + .displayName +\n",
    "    \" is manufactured by \" + .brand +\n",
    "    \". It belongs to the \" + .model + \" model series. \" +\n",
    "    \"The price ranges from \" + .displayPrice + \". \" +\n",
    "    \"It is \" + (if .isElectric then \"an electric vehicle\" else \"not electric\") + \". \" +\n",
    "    \"Average rating is \" + (.avgRating | tostring) + \". \" +\n",
    "    \"It has the following variants: \" + (.variants | map(.name + \" at \" + .displayPrice) | join(\", \"))\n",
    "  ),\n",
    "  metadata: {\n",
    "    type: \"vehicle\",\n",
    "    image: .image,\n",
    "    variants: .variants,\n",
    "    gallery: .gallery,\n",
    "    displayName: .displayName,\n",
    "    model: .model,\n",
    "    brand: .brand,\n",
    "    displayPrice: .displayPrice,\n",
    "    isElectric: .isElectric,\n",
    "    avgRating: .avgRating\n",
    "  }\n",
    "}\n",
    "'''\n",
    "\n",
    "\n",
    "# Load the json data through the langchain framework.\n",
    "loader = JSONLoader(\n",
    "    file_path='tata_data.json',\n",
    "    jq_schema=jq_schema,\n",
    "    text_content=False,\n",
    ")\n",
    "\n",
    "documents = loader.load()\n",
    "print(f\"✅ Loaded {len(documents)} documents.\")"
   ]
  },
  {
   "cell_type": "code",
   "execution_count": 80,
   "id": "9cfa1623-e096-4d07-a85a-732b88dce172",
   "metadata": {},
   "outputs": [
    {
     "name": "stdout",
     "output_type": "stream",
     "text": [
      "<class 'dict'>\n"
     ]
    }
   ],
   "source": [
    "print(type(documents[0].metadata))"
   ]
  },
  {
   "cell_type": "code",
   "execution_count": 81,
   "id": "107c8a20-3160-47e7-86d6-7c80d3cbb2a3",
   "metadata": {},
   "outputs": [
    {
     "data": {
      "text/plain": [
       "'{\"page_content\": \"Display Name: Tata 1815 LPT, Model: 1815 LPT, Brand: Tata, Price: \\\\u20b925.84 - \\\\u20b926.84 Lakh, Electric: false, Rating: 0\", \"metadata\": {\"type\": \"vehicle\", \"image\": \"https://images.91trucks.com/trucks/models/63/1274/tata-815-lpt-1340125921.jpg\", \"variants\": [{\"displayPrice\": \"\\\\u20b926.84 Lakh\", \"price\": 2684000, \"name\": \"DCR 48 HSD\", \"id\": 2680, \"value\": [\"Diesel\"]}, {\"displayPrice\": \"\\\\u20b926.00 Lakh\", \"price\": 2600000, \"name\": \"DCR 48 CBC\", \"id\": 2679, \"value\": [\"Diesel\"]}, {\"displayPrice\": \"\\\\u20b925.88 Lakh\", \"price\": 2588000, \"name\": \"DCR 42 HSD\", \"id\": 2678, \"value\": [\"Diesel\"]}, {\"displayPrice\": \"\\\\u20b925.84 Lakh\", \"price\": 2584000, \"name\": \"DCR 42 CBC\", \"id\": 2677, \"value\": [\"Diesel\"]}], \"gallery\": [\"https://images.91trucks.com/trucks/models/63/1274/tata-815-lpt-1340125921.jpg\"], \"displayName\": \"Tata 1815 LPT\", \"model\": \"1815 LPT\", \"brand\": \"Tata\", \"displayPrice\": \"\\\\u20b925.84 - \\\\u20b926.84 Lakh\", \"isElectric\": false, \"avgRating\": 0}}'"
      ]
     },
     "execution_count": 81,
     "metadata": {},
     "output_type": "execute_result"
    }
   ],
   "source": [
    "documents[0].page_content"
   ]
  },
  {
   "cell_type": "code",
   "execution_count": null,
   "id": "396aadec-dca1-4818-8691-431cffcff28c",
   "metadata": {},
   "outputs": [],
   "source": []
  },
  {
   "cell_type": "code",
   "execution_count": 91,
   "id": "a5c6d8bf-6532-4e45-b486-d38b6f4499c7",
   "metadata": {},
   "outputs": [
    {
     "data": {
      "text/plain": [
       "'{\"page_content\": \"Display Name: Tata Yodha Crew Cabin, Model: Yodha Crew Cabin, Brand: Tata, Price: \\\\u20b99.52 - \\\\u20b912.02 Lakh, Electric: false, Rating: 4.6\", \"metadata\": {\"type\": \"vehicle\", \"image\": \"https://images.91trucks.com/trucks/models/63/1268/tata-yodha-crew-cabin-1307375177.jpg\", \"variants\": [{\"displayPrice\": \"\\\\u20b912.02 Lakh\", \"price\": 1201820, \"name\": \"4x4 VX\", \"id\": 5106, \"value\": [\"2200\", \"100 HP\", \"250\", \"52\", \"3990\", \"1200\"]}, {\"displayPrice\": \"\\\\u20b910.72 Lakh\", \"price\": 1072300, \"name\": \"SC 4X2 VX\", \"id\": 5105, \"value\": [\"Diesel\", \"2200\", \"D+4\", \"100 HP\", \"250\", \"45\", \"2990\", \"1140\"]}, {\"displayPrice\": \"\\\\u20b910.71 Lakh\", \"price\": 1071250, \"name\": \"4X4\", \"id\": 2669, \"value\": [\"Diesel\", \"100 HP\", \"250\", \"4\", \"2179\", \"45\", \"2990\", \"1060\"]}, {\"displayPrice\": \"\\\\u20b910.57 Lakh\", \"price\": 1057300, \"name\": \"4X2 HVAC\", \"id\": 5107, \"value\": [\"2200\", \"100 HP\", \"250\", \"52\", \"2990\", \"1140\"]}, {\"displayPrice\": \"\\\\u20b910.31 Lakh\", \"price\": 1031230, \"name\": \"SC 4x2\", \"id\": 5104, \"value\": [\"100 HP\", \"250\", \"45\", \"2990\", \"1140\"]}, {\"displayPrice\": \"\\\\u20b99.91 Lakh\", \"price\": 991027, \"name\": \"BS6 AC\", \"id\": 2671, \"value\": [\"Diesel\", \"853000 HP\", \"4\", \"2956\", \"45\"]}, {\"displayPrice\": \"\\\\u20b99.52 Lakh\", \"price\": 951937, \"name\": \"4X2\", \"id\": 2670, \"value\": [\"Diesel\", \"100 HP\", \"250\", \"2179\", \"45\", \"2990\", \"1140\"]}], \"gallery\": [\"https://images.91trucks.com/trucks/models/63/1268/tata-yodha-crew-cabin-1307375177.jpg\", \"https://images.91trucks.com/trucks/models/63/1268/tata-yodha-crew-cabin-158282212.jpg\", \"https://images.91trucks.com/trucks/models/63/1268/tata-yodha-crew-cabin-51228293.jpg\", \"https://images.91trucks.com/trucks/models/63/1268/tata-yodha-crew-cabin-1545549355.jpg\", \"https://images.91trucks.com/trucks/models/63/1268/tata-yodha-crew-cabin-215710077.jpg\", \"https://images.91trucks.com/trucks/models/63/1268/tata-yodha-crew-cabin-75030051.jpg\", \"https://images.91trucks.com/trucks/models/63/1268/tata-yodha-crew-cabin-1443952228.jpg\", \"https://images.91trucks.com/trucks/models/63/1268/tata-yodha-crew-cabin-1533187091.jpg\", \"https://images.91trucks.com/trucks/models/63/1268/tata-yodha-crew-cabin-1802720012.jpg\", \"https://images.91trucks.com/trucks/models/63/1268/tata-yodha-crew-cabin-129034543.jpg\", \"https://images.91trucks.com/trucks/models/63/1268/tata-yodha-crew-cabin-654344712.jpg\", \"https://images.91trucks.com/trucks/models/63/1268/tata-yodha-crew-cabin-1178880105.jpg\"], \"displayName\": \"Tata Yodha Crew Cabin\", \"model\": \"Yodha Crew Cabin\", \"brand\": \"Tata\", \"displayPrice\": \"\\\\u20b99.52 - \\\\u20b912.02 Lakh\", \"isElectric\": false, \"avgRating\": 4.6}}'"
      ]
     },
     "execution_count": 91,
     "metadata": {},
     "output_type": "execute_result"
    }
   ],
   "source": [
    "documents[3].page_content"
   ]
  },
  {
   "cell_type": "code",
   "execution_count": null,
   "id": "131ec907-1958-4ad9-8ddc-a6ff340265b8",
   "metadata": {},
   "outputs": [],
   "source": []
  },
  {
   "cell_type": "markdown",
   "id": "4aba2330-19dd-4da7-b0bf-293d1dc061ae",
   "metadata": {},
   "source": [
    "# Embedding and Vector Store of the json data."
   ]
  },
  {
   "cell_type": "code",
   "execution_count": 83,
   "id": "e61df147-400b-4d33-99bc-be826563bad2",
   "metadata": {},
   "outputs": [
    {
     "name": "stdout",
     "output_type": "stream",
     "text": [
      "\u001b[2mUsing Python 3.12.3 environment at: /home/dell/Desktop/Github/91_trucks_ai_ml/001_LLM_Chatbot/chatbot-uvicorn/.venv\u001b[0m\n",
      "\u001b[2mAudited \u001b[1m1 package\u001b[0m \u001b[2min 2ms\u001b[0m\u001b[0m\n",
      "\u001b[2mUsing Python 3.12.3 environment at: /home/dell/Desktop/Github/91_trucks_ai_ml/001_LLM_Chatbot/chatbot-uvicorn/.venv\u001b[0m\n",
      "\u001b[2mAudited \u001b[1m2 packages\u001b[0m \u001b[2min 12ms\u001b[0m\u001b[0m\n"
     ]
    }
   ],
   "source": [
    "!uv pip install hf_xet\n",
    "!uv pip install sentence-transformers faiss-cpu"
   ]
  },
  {
   "cell_type": "code",
   "execution_count": 84,
   "id": "6257ca8e-564e-42db-8e42-175c3e077c53",
   "metadata": {},
   "outputs": [],
   "source": [
    "from langchain.embeddings import HuggingFaceEmbeddings\n",
    "\n",
    "embeddings = HuggingFaceEmbeddings(model_name=\"sentence-transformers/all-mpnet-base-v2\")\n",
    "vectorstore = FAISS.from_documents(documents, embeddings)\n",
    "vectorstore.save_local(\"faiss_vectorstore\")"
   ]
  },
  {
   "cell_type": "code",
   "execution_count": null,
   "id": "4382726b-c1a4-4b88-950d-08b62c97a39d",
   "metadata": {},
   "outputs": [],
   "source": []
  },
  {
   "cell_type": "code",
   "execution_count": 85,
   "id": "1c07809b-6fcb-41a5-b2e4-83cdec57ab8f",
   "metadata": {},
   "outputs": [
    {
     "name": "stdout",
     "output_type": "stream",
     "text": [
      "<class 'list'>\n",
      "<class 'langchain_core.documents.base.Document'>\n"
     ]
    }
   ],
   "source": [
    "print(type(documents))\n",
    "print(type(documents[0]))"
   ]
  },
  {
   "cell_type": "code",
   "execution_count": null,
   "id": "3e5a2155-363b-4929-8696-03015bcc38d9",
   "metadata": {},
   "outputs": [],
   "source": []
  },
  {
   "cell_type": "markdown",
   "id": "97280974-ccf8-4dca-aa74-f0f80b0602be",
   "metadata": {},
   "source": [
    "# Prompt Template for the Model."
   ]
  },
  {
   "cell_type": "code",
   "execution_count": 86,
   "id": "2b4be782-fdd1-4851-9306-167891b41b2c",
   "metadata": {},
   "outputs": [],
   "source": [
    "# prompt_template = \"\"\"Given the following context and a question, generate an detailed answer based on this context only.\n",
    "#     In the answer try to provide as much text as possible from the document context without making much changes.\n",
    "#     If the answer is not found in the context, do internet search and give the answer in structured way.\n",
    "\n",
    "#     CONTEXT: {context}\n",
    "#     QUESTION: {question}\"\"\"\n",
    "\n",
    "\n",
    "# PROMPT = PromptTemplate(\n",
    "#         template=prompt_template, input_variables=[\"context\", \"question\"]\n",
    "#     )"
   ]
  },
  {
   "cell_type": "code",
   "execution_count": 87,
   "id": "c56f8843-897e-43aa-ad07-b076c4f7773f",
   "metadata": {},
   "outputs": [],
   "source": [
    "# PROMPT"
   ]
  },
  {
   "cell_type": "code",
   "execution_count": 89,
   "id": "8a0cec69-98b4-451d-8708-5443069cc709",
   "metadata": {},
   "outputs": [
    {
     "name": "stdout",
     "output_type": "stream",
     "text": [
      " I'm sorry, I cannot provide an accurate answer as none of the trucks listed have a price under 10 lakh. \n"
     ]
    }
   ],
   "source": [
    "from langchain.chains import RetrievalQAWithSourcesChain, RetrievalQA\n",
    "\n",
    "qa_chain = RetrievalQA.from_chain_type(\n",
    "    llm=llm,\n",
    "    retriever=vectorstore.as_retriever(search_kwargs={\"k\": 5}),\n",
    "    chain_type=\"stuff\",\n",
    "    input_key=\"query\",\n",
    "    # chain_type_kwargs={\"prompt\": PROMPT},\n",
    "    \n",
    ")\n",
    "\n",
    "#  Ask the Query \n",
    "query = \"give me the best tata trucks under 10lakh??\"\n",
    "\n",
    "# 2nd Solution.\n",
    "print(qa_chain(query)['result'])\n",
    "# print(type(qa_chain(query)))"
   ]
  },
  {
   "cell_type": "markdown",
   "id": "0c11e832-6c38-4b3c-b4d9-08594d145936",
   "metadata": {},
   "source": []
  },
  {
   "cell_type": "code",
   "execution_count": null,
   "id": "5e91c8d0-9a07-4198-b0cd-185f337183fe",
   "metadata": {},
   "outputs": [],
   "source": []
  },
  {
   "cell_type": "markdown",
   "id": "0ba31385-0570-4ee3-b675-8319cf18f07a",
   "metadata": {},
   "source": [
    "# 91_Trucks_Chatbot_Demo_USING_CSV"
   ]
  },
  {
   "cell_type": "code",
   "execution_count": null,
   "id": "eb76d212-4d4c-4cec-9806-cca11039d65f",
   "metadata": {},
   "outputs": [],
   "source": []
  },
  {
   "cell_type": "code",
   "execution_count": null,
   "id": "75356a5a-e02a-4056-93e9-5e51c114671f",
   "metadata": {},
   "outputs": [],
   "source": [
    "import os\n",
    "from dotenv import load_dotenv\n",
    "from langchain.chat_models import ChatOpenAI\n",
    "import warnings \n",
    "warnings.filterwarnings(\"ignore\")\n",
    "\n",
    "load_dotenv()\n",
    "\n",
    "api_key = os.getenv(\"OPENAI_API_KEY\")\n",
    "\n",
    "# Create the OpenAI Chat Model instance\n",
    "llm = ChatOpenAI(temperature=0.7)\n",
    "\n",
    "llm.invoke(\"Who is Elon Musk in detail in humanizer format.\").content"
   ]
  },
  {
   "cell_type": "markdown",
   "id": "11021205-4bb7-4c5c-98c0-d5c880d35b12",
   "metadata": {},
   "source": [
    "# Import the CSV File."
   ]
  },
  {
   "cell_type": "code",
   "execution_count": null,
   "id": "dad4b30a-8754-491a-89e2-1aca6c88675c",
   "metadata": {},
   "outputs": [],
   "source": [
    "from langchain.document_loaders.csv_loader import CSVLoader\n",
    "\n",
    "loader = CSVLoader(file_path=\"trucks_data.csv\", source_column=\"prompt\")\n",
    "\n",
    "# data = loader.load()[0].metadata['source']\n",
    "data = loader.load()"
   ]
  },
  {
   "cell_type": "code",
   "execution_count": null,
   "id": "1532d4c3-273c-44bd-b7be-1cd47246a931",
   "metadata": {},
   "outputs": [],
   "source": [
    "# data[0].page_content\n",
    "data"
   ]
  },
  {
   "cell_type": "markdown",
   "id": "7394d7ff-235c-4190-beec-16615ca8d27d",
   "metadata": {},
   "source": [
    "# Perform the Embedding of the CSV Data"
   ]
  },
  {
   "cell_type": "code",
   "execution_count": null,
   "id": "6a3ae94d-1a6e-4d7d-bd50-5eb60712cd4b",
   "metadata": {},
   "outputs": [],
   "source": [
    "# # This is working Fine* ******************************************************************\n",
    "from langchain.embeddings import OpenAIEmbeddings\n",
    "from langchain.vectorstores import FAISS\n",
    "\n",
    "# Use a pre-trained SentenceTransformer model\n",
    "embeddings = OpenAIEmbeddings()\n",
    " \n",
    "# Create FAISS vector store from documents\n",
    "vectordb = FAISS.from_documents(documents=data, embedding=embeddings)\n",
    "\n",
    "# Optionally: Save the FAISS index to a local file for later use\n",
    "vectordb.save_local(\"faiss_index\")\n",
    "\n",
    "# Create a retriever from the vector store..\n",
    "retriever = vectordb.as_retriever()\n",
    "\n",
    "\n",
    "# query = \"for how long is this course Valid?\"  # Example query\n",
    "query = \"how about job placement support\"  # Example query"
   ]
  },
  {
   "cell_type": "code",
   "execution_count": null,
   "id": "9041bb6a-446e-49d1-86a9-c99ae7540b07",
   "metadata": {},
   "outputs": [],
   "source": []
  },
  {
   "cell_type": "code",
   "execution_count": null,
   "id": "a7382494-9296-4728-9bf2-f10a4fa52bea",
   "metadata": {},
   "outputs": [],
   "source": [
    "from langchain.prompts import PromptTemplate\n",
    "\n",
    "prompt_template = \"\"\"Given the following context and a question, generate an answer based on this context only.\n",
    "In the answer try to provide as much text as possible from \"response\" section in the source document context without making much changes.\n",
    "If the answer is not found in the context, kindly state \"I don't know.\" Don't try to make up an answer.\n",
    "\n",
    "CONTEXT: {context}\n",
    "\n",
    "QUESTION: {question}\"\"\"\n",
    "\n",
    "\n",
    "PROMPT = PromptTemplate(\n",
    "    template=prompt_template, input_variables=[\"context\", \"question\"]\n",
    ")\n",
    "chain_type_kwargs = {\"prompt\": PROMPT}\n"
   ]
  },
  {
   "cell_type": "code",
   "execution_count": null,
   "id": "b90e3486-0109-4927-9fdd-119df6a65cdf",
   "metadata": {},
   "outputs": [],
   "source": [
    "# RetrievalQA Class....\n",
    "from langchain.chains import RetrievalQA\n",
    "chain = RetrievalQA.from_chain_type(llm = llm, chain_type = \"stuff\",retriever=retriever, input_key=\"query\", return_source_documents = True, chain_type_kwargs = chain_type_kwargs)\n",
    "\n",
    "# chain(\"Did you provide the internship tell me in detail?\")\n",
    "chain(\"Is 91trucks business model is scalable?\")['result']"
   ]
  },
  {
   "cell_type": "code",
   "execution_count": null,
   "id": "cb87021b-7c8c-4a8f-806a-68d7510bf068",
   "metadata": {},
   "outputs": [],
   "source": []
  },
  {
   "cell_type": "code",
   "execution_count": null,
   "id": "47abd901-8097-41f1-b324-60c8043d5099",
   "metadata": {},
   "outputs": [],
   "source": []
  },
  {
   "cell_type": "code",
   "execution_count": null,
   "id": "fb1fab18-aa25-4ad1-bd45-33a2f86101d6",
   "metadata": {},
   "outputs": [],
   "source": []
  },
  {
   "cell_type": "code",
   "execution_count": null,
   "id": "e221908b-b8c3-40e2-86c3-8c397a94772a",
   "metadata": {},
   "outputs": [],
   "source": []
  },
  {
   "cell_type": "code",
   "execution_count": null,
   "id": "b4578d0c-e95a-47fa-bfee-632370ac1229",
   "metadata": {},
   "outputs": [],
   "source": []
  }
 ],
 "metadata": {
  "kernelspec": {
   "display_name": "Chatbot Env",
   "language": "python",
   "name": "chatbot-env"
  },
  "language_info": {
   "codemirror_mode": {
    "name": "ipython",
    "version": 3
   },
   "file_extension": ".py",
   "mimetype": "text/x-python",
   "name": "python",
   "nbconvert_exporter": "python",
   "pygments_lexer": "ipython3",
   "version": "3.12.3"
  },
  "widgets": {
   "application/vnd.jupyter.widget-state+json": {
    "state": {},
    "version_major": 2,
    "version_minor": 0
   }
  }
 },
 "nbformat": 4,
 "nbformat_minor": 5
}
